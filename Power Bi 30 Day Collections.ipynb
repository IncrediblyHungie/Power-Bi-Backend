{
 "cells": [
  {
   "cell_type": "code",
   "execution_count": 1,
   "id": "4a12fbf5-abd7-4f90-9bd3-da94e127a450",
   "metadata": {
    "tags": []
   },
   "outputs": [
    {
     "name": "stderr",
     "output_type": "stream",
     "text": [
      "C:\\Users\\pskotte\\AppData\\Local\\Temp\\ipykernel_7764\\2818974327.py:21: UserWarning: Could not infer format, so each element will be parsed individually, falling back to `dateutil`. To ensure parsing is consistent and as-expected, please specify a format.\n",
      "  frame['Report Date'] = pd.to_datetime(frame['Report Date'])\n"
     ]
    }
   ],
   "source": [
    "import pandas as pd\n",
    "import glob\n",
    "from datetime import datetime, timedelta\n",
    "\n",
    "# Load all CSV files from the specified folder into a single DataFrame\n",
    "path = r'C:\\\\Users\\\\pskotte\\\\Desktop\\\\New folder' # Folder path\n",
    "all_files = glob.glob(path + \"/*.csv\")\n",
    "\n",
    "li = []\n",
    "\n",
    "for filename in all_files:\n",
    "    # Modify read_csv to import the Amount column as string\n",
    "    df = pd.read_csv(filename, index_col=None, header=0, dtype={\"Amount\": str})\n",
    "    # Remove commas and dollar signs from the Amount column and convert to float\n",
    "    df['Amount'] = df['Amount'].replace({'\\$':'', ',':''}, regex=True).astype(float)\n",
    "    li.append(df)\n",
    "\n",
    "frame = pd.concat(li, axis=0, ignore_index=True)\n",
    "\n",
    "# Convert Report Date column to datetime format\n",
    "frame['Report Date'] = pd.to_datetime(frame['Report Date'])\n",
    "\n",
    "# Filter out dates from the Report Date column that are older than 30 days\n",
    "threshold_date = datetime.now() - timedelta(days=30)\n",
    "filtered_frame = frame[frame['Report Date'] > threshold_date]\n",
    "\n",
    "# Calculate the sum of the Amount column and count transactions\n",
    "amount_sum = filtered_frame['Amount'].sum()\n",
    "transaction_count = filtered_frame['Amount'].count()\n",
    "\n",
    "# Export to a CSV file\n",
    "summary_df = pd.DataFrame({'Total Amount Sum': [amount_sum], 'Transaction Count': [transaction_count]})\n",
    "summary_df.to_csv(r'C:\\\\Users\\\\pskotte\\\\Desktop\\\\Power Bi Data\\\\DM Returned Last 30 Days.csv', index=False)"
   ]
  },
  {
   "cell_type": "code",
   "execution_count": 2,
   "id": "27a38b8b-347e-41be-a113-14a168d51739",
   "metadata": {
    "tags": []
   },
   "outputs": [
    {
     "name": "stderr",
     "output_type": "stream",
     "text": [
      "C:\\Users\\pskotte\\AppData\\Local\\Temp\\ipykernel_7764\\677349480.py:21: UserWarning: Could not infer format, so each element will be parsed individually, falling back to `dateutil`. To ensure parsing is consistent and as-expected, please specify a format.\n",
      "  frame['Report Date'] = pd.to_datetime(frame['Report Date'])\n"
     ]
    }
   ],
   "source": [
    "import pandas as pd\n",
    "import glob\n",
    "from datetime import datetime, timedelta\n",
    "\n",
    "# Load all CSV files from the specified folder into a single DataFrame\n",
    "path = r'C:\\\\Users\\\\pskotte\\\\Desktop\\\\ILMS' # Folder path\n",
    "all_files = glob.glob(path + \"/*.csv\")\n",
    "\n",
    "li = []\n",
    "\n",
    "for filename in all_files:\n",
    "    # Modify read_csv to import the Amount column as string\n",
    "    df = pd.read_csv(filename, index_col=None, header=0, dtype={\"Amount\": str})\n",
    "    # Remove commas and dollar signs from the Amount column and convert to float\n",
    "    df['Amount'] = df['Amount'].replace({'\\$':'', ',':''}, regex=True).astype(float)\n",
    "    li.append(df)\n",
    "\n",
    "frame = pd.concat(li, axis=0, ignore_index=True)\n",
    "\n",
    "# Convert Report Date column to datetime format\n",
    "frame['Report Date'] = pd.to_datetime(frame['Report Date'])\n",
    "\n",
    "# Filter out dates from the Report Date column that are older than 30 days\n",
    "threshold_date = datetime.now() - timedelta(days=30)\n",
    "filtered_frame = frame[frame['Report Date'] > threshold_date]\n",
    "\n",
    "# Calculate the sum of the Amount column and count transactions\n",
    "amount_sum = filtered_frame['Amount'].sum()\n",
    "transaction_count = filtered_frame['Amount'].count()\n",
    "\n",
    "# Export to a CSV file\n",
    "summary_df = pd.DataFrame({'Total Amount Sum': [amount_sum], 'Transaction Count': [transaction_count]})\n",
    "summary_df.to_csv(r'C:\\\\Users\\\\pskotte\\\\Desktop\\\\Power Bi Data\\\\ILMS Returned Last 30 Days.csv', index=False)"
   ]
  },
  {
   "cell_type": "code",
   "execution_count": 4,
   "id": "918b7ff3-0642-4114-92c1-1b160c55c18d",
   "metadata": {},
   "outputs": [],
   "source": [
    "import pandas as pd\n",
    "\n",
    "# Load the data with encoding specified\n",
    "df_combined = pd.read_csv(r'C:\\Users\\pskotte\\Desktop\\Bluefin Months\\4-15.csv', encoding='ISO-8859-1')\n",
    "\n",
    "# Join similar processor return reasons\n",
    "df_combined['Payment Processor Response Code Description'] = df_combined['Payment Processor Response Code Description'].replace({\n",
    "    'Approved and completed': 'Approved',\n",
    "    'Approved message': 'Approved',\n",
    "    'Approved and completed.': 'Approved',\n",
    "    'Do not honor.': 'Do not honor',\n",
    "    'Insufficient funds.': 'Insufficient funds',\n",
    "    'Transaction not permitted-Card': 'Transaction not permitted',\n",
    "    'Expired card ': 'Expired card',\n",
    "    'Transaction Declined - Expired Card': 'Expired card',\n",
    "    'Transaction not permitted - Merchant': 'Transaction not permitted-Merchant',\n",
    "    'Transaction not permitted - Card.': 'Transaction not permitted',\n",
    "    'Transaction not permitted-Merchant': 'Transaction not permitted-Merchant',\n",
    "    'Transaction Declined - Invalid Transaction': 'Invalid Transaction',\n",
    "    'Transaction Declined - Card Number error': 'Card Number Error',\n",
    "    'Card Number Error': 'Invalid Transaction',\n",
    "    'Lost card, pick up (fraud account)': 'Lost card',\n",
    "    'Stolen Card': 'Lost card',\n",
    "    'Transaction Declined - Stolen Card': 'Lost card',\n",
    "    'Transaction Declined - Lost card': 'Lost card',\n",
    "    'Invalid service code, restricted': 'Invalid service code',\n",
    "    'Transaction Declined - Invalid service code restricted.': 'Invalid service code',\n",
    "    'Transaction Declined - Activity limit exceeded.': 'Activity limit exceeded',\n",
    "    'Activity limit exceeded': 'Exceeds withdrawal limit',\n",
    "    'Exceeds withdrawal limit ': 'Exceeds withdrawal limit',\n",
    "    'Transaction Declined - Exceeds withdrawl limit.': 'Exceeds withdrawal limit',\n",
    "    'Transaction not permitted-Terminal': 'Transaction not permitted',\n",
    "    'Transaction not permitted - Terminal': 'Transaction not permitted',\n",
    "    'SERV NOT ALLOWED': 'Service not allowed',\n",
    "    'No credit account': 'No account',\n",
    "    'No checking account': 'No account',\n",
    "    'Transaction Declined - Transaction not permitted': 'Transaction not permitted',\n",
    "    'Approved.': 'Approved',\n",
    "}, regex=True)\n",
    "\n",
    "# Save the processed DataFrame back to csv\n",
    "df_combined.to_csv(r'C:\\Users\\pskotte\\Desktop\\Bluefin Months\\4-15.csv', index=False)"
   ]
  },
  {
   "cell_type": "code",
   "execution_count": null,
   "id": "98efc279-1f30-4156-bd68-547a14f89cb7",
   "metadata": {},
   "outputs": [],
   "source": []
  }
 ],
 "metadata": {
  "kernelspec": {
   "display_name": "Python 3 (ipykernel)",
   "language": "python",
   "name": "python3"
  },
  "language_info": {
   "codemirror_mode": {
    "name": "ipython",
    "version": 3
   },
   "file_extension": ".py",
   "mimetype": "text/x-python",
   "name": "python",
   "nbconvert_exporter": "python",
   "pygments_lexer": "ipython3",
   "version": "3.11.7"
  }
 },
 "nbformat": 4,
 "nbformat_minor": 5
}
