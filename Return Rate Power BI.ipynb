{
 "cells": [
  {
   "cell_type": "code",
   "execution_count": 1,
   "id": "1da26bbb-3c41-4f75-892a-4299f248a2ae",
   "metadata": {},
   "outputs": [
    {
     "name": "stderr",
     "output_type": "stream",
     "text": [
      "C:\\Users\\pskotte\\AppData\\Local\\Temp\\ipykernel_8312\\1366101009.py:19: UserWarning: Could not infer format, so each element will be parsed individually, falling back to `dateutil`. To ensure parsing is consistent and as-expected, please specify a format.\n",
      "  frame['Report Date'] = pd.to_datetime(frame['Report Date'])\n"
     ]
    }
   ],
   "source": [
    "import pandas as pd\n",
    "import glob\n",
    "from datetime import datetime, timedelta\n",
    "import pyodbc\n",
    "\n",
    "# Load all CSV files from the specified folder into a single DataFrame\n",
    "path = r'C:\\\\Users\\\\pskotte\\\\Desktop\\\\New folder'  # Folder path\n",
    "all_files = glob.glob(path + \"/*.csv\")\n",
    "\n",
    "li = []\n",
    "\n",
    "for filename in all_files:\n",
    "    df = pd.read_csv(filename, index_col=None, header=0)\n",
    "    li.append(df)\n",
    "\n",
    "frame = pd.concat(li, axis=0, ignore_index=True)\n",
    "\n",
    "# Convert Report Date column to datetime format\n",
    "frame['Report Date'] = pd.to_datetime(frame['Report Date'])\n",
    "\n",
    "# Filter out dates from the Report Date column that are older than 30 days\n",
    "threshold_date = datetime.now() - timedelta(days=30)\n",
    "filtered_frame = frame[frame['Report Date'] > threshold_date]\n",
    "\n",
    "# Count transactions\n",
    "transaction_count = filtered_frame.shape[0]\n",
    "\n",
    "# Connect to the database\n",
    "cnxn_str = 'Driver={ODBC Driver 17 for SQL Server};Server=tcp:azwsynt00.sql.azuresynapse.net;Database=AZWSYNT00;Authentication=ActiveDirectoryIntegrated'\n",
    "cnxn = pyodbc.connect(cnxn_str)\n",
    "cursor = cnxn.cursor()\n",
    "\n",
    "cursor.execute(\"\"\"\n",
    "SELECT COUNT(*) AS 'Total Transaction Count'\n",
    "FROM [ref].[DM_Consumer_Account_Payment_Journal] CAPJ\n",
    "INNER JOIN [ref].[DM_Consumer_Payment_Journal] CPJ ON CAPJ.[ConsumerPaymentJournalID] = CPJ.[ConsumerPaymentJournalID]\n",
    "WHERE CAST(CAPJ.ConsumerPaymentEnteredDate AS DATE) BETWEEN CAST(GETDATE() - 30 AS DATE) AND CAST(GETDATE() - 1 AS DATE)\n",
    "    AND CAPJ.BucketTransactionTypeCode IN (\n",
    "        2\n",
    "    )\n",
    "    --DEFINE CARD PAYMENT FIELDS\n",
    "    AND PaymentMemoID IN (\n",
    "        23,\n",
    "        13,\n",
    "        12\n",
    "    )\n",
    "    AND ConsumerAccountPaymentReversingEntryID IS NULL\n",
    "\"\"\")\n",
    "count_result = cursor.fetchone()[0]  # Fetch the result\n",
    "\n",
    "# Calculate DM Return Rate as a percentage\n",
    "dm_return_rate = (transaction_count / count_result)\n",
    "\n",
    "# Export to a CSV file with DM Return Rate\n",
    "summary_df = pd.DataFrame({'DM Return Rate': [dm_return_rate]})\n",
    "summary_df.to_csv(r'C:\\\\Users\\\\pskotte\\\\Desktop\\\\Power Bi Data\\\\ACH Return Rate DM.csv', index=False)"
   ]
  },
  {
   "cell_type": "code",
   "execution_count": null,
   "id": "82e77141-06e7-4e63-a119-26701904ab24",
   "metadata": {},
   "outputs": [],
   "source": []
  }
 ],
 "metadata": {
  "kernelspec": {
   "display_name": "Python 3 (ipykernel)",
   "language": "python",
   "name": "python3"
  },
  "language_info": {
   "codemirror_mode": {
    "name": "ipython",
    "version": 3
   },
   "file_extension": ".py",
   "mimetype": "text/x-python",
   "name": "python",
   "nbconvert_exporter": "python",
   "pygments_lexer": "ipython3",
   "version": "3.11.7"
  }
 },
 "nbformat": 4,
 "nbformat_minor": 5
}
